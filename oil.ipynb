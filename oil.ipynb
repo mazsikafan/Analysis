{
 "cells": [
  {
   "cell_type": "code",
   "execution_count": 4,
   "metadata": {},
   "outputs": [],
   "source": [
    "import yfinance as yf\n",
    "import pandas as pd\n",
    "import numpy as np\n",
    "import matplotlib.pyplot as plt\n"
   ]
  },
  {
   "cell_type": "code",
   "execution_count": 1,
   "metadata": {},
   "outputs": [],
   "source": [
    "# OIL option analysis using yfinance as data source, and Black-Scholes model for option pricing\n",
    "# The Black-Scholes model is a mathematical model for financial markets, which is used to calculate the theoretical price of European-style options\n",
    "# The model makes several assumptions, including that the option can only be exercised at expiration, that the risk-free rate and volatility are constant, and that the underlying asset follows a lognormal distribution\n",
    "# The model is widely used in practice, and is the basis for many option pricing models\n",
    "\n",
    "# The Black-Scholes model is given by the following formula:\n",
    "# C = S*N(d1) - X*e^(-rT)*N(d2)\n",
    "# P = X*e^(-rT)*N(-d2) - S*N(-d1)\n",
    "# where:\n",
    "# C is the call option price\n",
    "# P is the put option price\n",
    "# S is the stock price\n",
    "# X is the strike price\n",
    "# r is the risk-free rate\n",
    "# T is the time to expiration\n",
    "# N is the cumulative distribution function of the standard normal distribution\n",
    "# d1 = (ln(S/X) + (r + (sigma^2)/2)*T) / (sigma*sqrt(T))\n",
    "# d2 = d1 - sigma*sqrt(T)\n",
    "# sigma is the volatility of the stock price\n",
    "\n",
    "# The Black-Scholes model is used to calculate the theoretical price of options, and can be used to compare the theoretical price to the market price of the option\n",
    "# If the theoretical price is higher than the market price, the option is considered undervalued, and if the theoretical price is lower than the market price, the option is considered overvalued\n",
    "\n",
    "# The Black-Scholes model can also be used to calculate the implied volatility of the stock price, which is the volatility that makes the theoretical price of the option equal to the market price\n",
    "# The implied volatility can be used to compare the volatility of different stocks, and to identify stocks that are overvalued or undervalued\n"
   ]
  },
  {
   "cell_type": "code",
   "execution_count": 8,
   "metadata": {},
   "outputs": [
    {
     "ename": "ValueError",
     "evalue": "Expiration `2022-01-20` cannot be found. Available expirations are: []",
     "output_type": "error",
     "traceback": [
      "\u001b[0;31m---------------------------------------------------------------------------\u001b[0m",
      "\u001b[0;31mValueError\u001b[0m                                Traceback (most recent call last)",
      "Cell \u001b[0;32mIn[8], line 2\u001b[0m\n\u001b[1;32m      1\u001b[0m oil_data \u001b[38;5;241m=\u001b[39m yf\u001b[38;5;241m.\u001b[39mTicker(\u001b[38;5;124m\"\u001b[39m\u001b[38;5;124mCL=F\u001b[39m\u001b[38;5;124m\"\u001b[39m)\n\u001b[0;32m----> 2\u001b[0m opt \u001b[38;5;241m=\u001b[39m \u001b[43moil_data\u001b[49m\u001b[38;5;241;43m.\u001b[39;49m\u001b[43moption_chain\u001b[49m\u001b[43m(\u001b[49m\u001b[38;5;124;43m'\u001b[39;49m\u001b[38;5;124;43m2022-01-20\u001b[39;49m\u001b[38;5;124;43m'\u001b[39;49m\u001b[43m)\u001b[49m\n\u001b[1;32m      3\u001b[0m opt\u001b[38;5;241m.\u001b[39mcalls\n\u001b[1;32m      4\u001b[0m opt\u001b[38;5;241m.\u001b[39mputs\n",
      "File \u001b[0;32m~/miniconda3/envs/finance/lib/python3.12/site-packages/yfinance/ticker.py:91\u001b[0m, in \u001b[0;36mTicker.option_chain\u001b[0;34m(self, date, tz)\u001b[0m\n\u001b[1;32m     89\u001b[0m     \u001b[38;5;28mself\u001b[39m\u001b[38;5;241m.\u001b[39m_download_options()\n\u001b[1;32m     90\u001b[0m \u001b[38;5;28;01mif\u001b[39;00m date \u001b[38;5;129;01mnot\u001b[39;00m \u001b[38;5;129;01min\u001b[39;00m \u001b[38;5;28mself\u001b[39m\u001b[38;5;241m.\u001b[39m_expirations:\n\u001b[0;32m---> 91\u001b[0m     \u001b[38;5;28;01mraise\u001b[39;00m \u001b[38;5;167;01mValueError\u001b[39;00m(\n\u001b[1;32m     92\u001b[0m         \u001b[38;5;124mf\u001b[39m\u001b[38;5;124m\"\u001b[39m\u001b[38;5;124mExpiration `\u001b[39m\u001b[38;5;132;01m{\u001b[39;00mdate\u001b[38;5;132;01m}\u001b[39;00m\u001b[38;5;124m` cannot be found. \u001b[39m\u001b[38;5;124m\"\u001b[39m\n\u001b[1;32m     93\u001b[0m         \u001b[38;5;124mf\u001b[39m\u001b[38;5;124m\"\u001b[39m\u001b[38;5;124mAvailable expirations are: [\u001b[39m\u001b[38;5;132;01m{\u001b[39;00m\u001b[38;5;124m'\u001b[39m\u001b[38;5;124m, \u001b[39m\u001b[38;5;124m'\u001b[39m\u001b[38;5;241m.\u001b[39mjoin(\u001b[38;5;28mself\u001b[39m\u001b[38;5;241m.\u001b[39m_expirations)\u001b[38;5;132;01m}\u001b[39;00m\u001b[38;5;124m]\u001b[39m\u001b[38;5;124m\"\u001b[39m)\n\u001b[1;32m     94\u001b[0m date \u001b[38;5;241m=\u001b[39m \u001b[38;5;28mself\u001b[39m\u001b[38;5;241m.\u001b[39m_expirations[date]\n\u001b[1;32m     95\u001b[0m options \u001b[38;5;241m=\u001b[39m \u001b[38;5;28mself\u001b[39m\u001b[38;5;241m.\u001b[39m_download_options(date)\n",
      "\u001b[0;31mValueError\u001b[0m: Expiration `2022-01-20` cannot be found. Available expirations are: []"
     ]
    }
   ],
   "source": [
    "oil_data = yf.Ticker(\"OIL\")\n",
    "opt = oil_data.option_chain('2022-01-20')\n",
    "opt.calls\n",
    "opt.puts\n",
    "\n"
   ]
  }
 ],
 "metadata": {
  "kernelspec": {
   "display_name": "finance",
   "language": "python",
   "name": "python3"
  },
  "language_info": {
   "codemirror_mode": {
    "name": "ipython",
    "version": 3
   },
   "file_extension": ".py",
   "mimetype": "text/x-python",
   "name": "python",
   "nbconvert_exporter": "python",
   "pygments_lexer": "ipython3",
   "version": "3.12.1"
  }
 },
 "nbformat": 4,
 "nbformat_minor": 2
}
