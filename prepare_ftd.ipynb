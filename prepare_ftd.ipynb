{
 "cells": [
  {
   "cell_type": "code",
   "execution_count": 2,
   "metadata": {},
   "outputs": [],
   "source": [
    "import pandas as pd"
   ]
  },
  {
   "cell_type": "code",
   "execution_count": 3,
   "metadata": {},
   "outputs": [
    {
     "data": {
      "text/html": [
       "<div>\n",
       "<style scoped>\n",
       "    .dataframe tbody tr th:only-of-type {\n",
       "        vertical-align: middle;\n",
       "    }\n",
       "\n",
       "    .dataframe tbody tr th {\n",
       "        vertical-align: top;\n",
       "    }\n",
       "\n",
       "    .dataframe thead th {\n",
       "        text-align: right;\n",
       "    }\n",
       "</style>\n",
       "<table border=\"1\" class=\"dataframe\">\n",
       "  <thead>\n",
       "    <tr style=\"text-align: right;\">\n",
       "      <th></th>\n",
       "      <th>SETTLEMENT DATE</th>\n",
       "      <th>QUANTITY (FAILS)</th>\n",
       "      <th>PRICE</th>\n",
       "    </tr>\n",
       "  </thead>\n",
       "  <tbody>\n",
       "    <tr>\n",
       "      <th>0</th>\n",
       "      <td>20230615</td>\n",
       "      <td>475</td>\n",
       "      <td>16.19</td>\n",
       "    </tr>\n",
       "    <tr>\n",
       "      <th>1</th>\n",
       "      <td>20230615</td>\n",
       "      <td>2459</td>\n",
       "      <td>0.24</td>\n",
       "    </tr>\n",
       "    <tr>\n",
       "      <th>2</th>\n",
       "      <td>20230615</td>\n",
       "      <td>22</td>\n",
       "      <td>4.66</td>\n",
       "    </tr>\n",
       "    <tr>\n",
       "      <th>3</th>\n",
       "      <td>20230615</td>\n",
       "      <td>4063</td>\n",
       "      <td>10.70</td>\n",
       "    </tr>\n",
       "    <tr>\n",
       "      <th>4</th>\n",
       "      <td>20230615</td>\n",
       "      <td>267</td>\n",
       "      <td>16.62</td>\n",
       "    </tr>\n",
       "    <tr>\n",
       "      <th>...</th>\n",
       "      <td>...</td>\n",
       "      <td>...</td>\n",
       "      <td>...</td>\n",
       "    </tr>\n",
       "    <tr>\n",
       "      <th>5497731</th>\n",
       "      <td>20211231</td>\n",
       "      <td>822215</td>\n",
       "      <td>0.33</td>\n",
       "    </tr>\n",
       "    <tr>\n",
       "      <th>5497732</th>\n",
       "      <td>20211231</td>\n",
       "      <td>100</td>\n",
       "      <td>6.45</td>\n",
       "    </tr>\n",
       "    <tr>\n",
       "      <th>5497733</th>\n",
       "      <td>20211231</td>\n",
       "      <td>400</td>\n",
       "      <td>36.24</td>\n",
       "    </tr>\n",
       "    <tr>\n",
       "      <th>5497734</th>\n",
       "      <td>20211231</td>\n",
       "      <td>30575</td>\n",
       "      <td>6.79</td>\n",
       "    </tr>\n",
       "    <tr>\n",
       "      <th>5497735</th>\n",
       "      <td>20211231</td>\n",
       "      <td>1219803</td>\n",
       "      <td>6.56</td>\n",
       "    </tr>\n",
       "  </tbody>\n",
       "</table>\n",
       "<p>5497736 rows × 3 columns</p>\n",
       "</div>"
      ],
      "text/plain": [
       "         SETTLEMENT DATE  QUANTITY (FAILS)  PRICE\n",
       "0               20230615               475  16.19\n",
       "1               20230615              2459   0.24\n",
       "2               20230615                22   4.66\n",
       "3               20230615              4063  10.70\n",
       "4               20230615               267  16.62\n",
       "...                  ...               ...    ...\n",
       "5497731         20211231            822215   0.33\n",
       "5497732         20211231               100   6.45\n",
       "5497733         20211231               400  36.24\n",
       "5497734         20211231             30575   6.79\n",
       "5497735         20211231           1219803   6.56\n",
       "\n",
       "[5497736 rows x 3 columns]"
      ]
     },
     "execution_count": 3,
     "metadata": {},
     "output_type": "execute_result"
    }
   ],
   "source": [
    "# open ftd.csv\n",
    "df = pd.read_csv('ftd.csv')\n",
    "df"
   ]
  },
  {
   "cell_type": "code",
   "execution_count": 4,
   "metadata": {},
   "outputs": [
    {
     "data": {
      "text/plain": [
       "SETTLEMENT DATE      int64\n",
       "QUANTITY (FAILS)     int64\n",
       "PRICE               object\n",
       "dtype: object"
      ]
     },
     "execution_count": 4,
     "metadata": {},
     "output_type": "execute_result"
    }
   ],
   "source": [
    "df.dtypes"
   ]
  },
  {
   "cell_type": "code",
   "execution_count": 5,
   "metadata": {},
   "outputs": [
    {
     "data": {
      "text/html": [
       "<div>\n",
       "<style scoped>\n",
       "    .dataframe tbody tr th:only-of-type {\n",
       "        vertical-align: middle;\n",
       "    }\n",
       "\n",
       "    .dataframe tbody tr th {\n",
       "        vertical-align: top;\n",
       "    }\n",
       "\n",
       "    .dataframe thead th {\n",
       "        text-align: right;\n",
       "    }\n",
       "</style>\n",
       "<table border=\"1\" class=\"dataframe\">\n",
       "  <thead>\n",
       "    <tr style=\"text-align: right;\">\n",
       "      <th></th>\n",
       "      <th>SETTLEMENT DATE</th>\n",
       "      <th>QUANTITY (FAILS)</th>\n",
       "      <th>PRICE</th>\n",
       "    </tr>\n",
       "  </thead>\n",
       "  <tbody>\n",
       "    <tr>\n",
       "      <th>0</th>\n",
       "      <td>2023-06-15</td>\n",
       "      <td>475</td>\n",
       "      <td>16.19</td>\n",
       "    </tr>\n",
       "    <tr>\n",
       "      <th>1</th>\n",
       "      <td>2023-06-15</td>\n",
       "      <td>2459</td>\n",
       "      <td>0.24</td>\n",
       "    </tr>\n",
       "    <tr>\n",
       "      <th>2</th>\n",
       "      <td>2023-06-15</td>\n",
       "      <td>22</td>\n",
       "      <td>4.66</td>\n",
       "    </tr>\n",
       "    <tr>\n",
       "      <th>3</th>\n",
       "      <td>2023-06-15</td>\n",
       "      <td>4063</td>\n",
       "      <td>10.70</td>\n",
       "    </tr>\n",
       "    <tr>\n",
       "      <th>4</th>\n",
       "      <td>2023-06-15</td>\n",
       "      <td>267</td>\n",
       "      <td>16.62</td>\n",
       "    </tr>\n",
       "    <tr>\n",
       "      <th>...</th>\n",
       "      <td>...</td>\n",
       "      <td>...</td>\n",
       "      <td>...</td>\n",
       "    </tr>\n",
       "    <tr>\n",
       "      <th>5497731</th>\n",
       "      <td>2021-12-31</td>\n",
       "      <td>822215</td>\n",
       "      <td>0.33</td>\n",
       "    </tr>\n",
       "    <tr>\n",
       "      <th>5497732</th>\n",
       "      <td>2021-12-31</td>\n",
       "      <td>100</td>\n",
       "      <td>6.45</td>\n",
       "    </tr>\n",
       "    <tr>\n",
       "      <th>5497733</th>\n",
       "      <td>2021-12-31</td>\n",
       "      <td>400</td>\n",
       "      <td>36.24</td>\n",
       "    </tr>\n",
       "    <tr>\n",
       "      <th>5497734</th>\n",
       "      <td>2021-12-31</td>\n",
       "      <td>30575</td>\n",
       "      <td>6.79</td>\n",
       "    </tr>\n",
       "    <tr>\n",
       "      <th>5497735</th>\n",
       "      <td>2021-12-31</td>\n",
       "      <td>1219803</td>\n",
       "      <td>6.56</td>\n",
       "    </tr>\n",
       "  </tbody>\n",
       "</table>\n",
       "<p>5497736 rows × 3 columns</p>\n",
       "</div>"
      ],
      "text/plain": [
       "        SETTLEMENT DATE  QUANTITY (FAILS)  PRICE\n",
       "0            2023-06-15               475  16.19\n",
       "1            2023-06-15              2459   0.24\n",
       "2            2023-06-15                22   4.66\n",
       "3            2023-06-15              4063  10.70\n",
       "4            2023-06-15               267  16.62\n",
       "...                 ...               ...    ...\n",
       "5497731      2021-12-31            822215   0.33\n",
       "5497732      2021-12-31               100   6.45\n",
       "5497733      2021-12-31               400  36.24\n",
       "5497734      2021-12-31             30575   6.79\n",
       "5497735      2021-12-31           1219803   6.56\n",
       "\n",
       "[5497736 rows x 3 columns]"
      ]
     },
     "execution_count": 5,
     "metadata": {},
     "output_type": "execute_result"
    }
   ],
   "source": [
    "# convert SETTLEMENT DATE to datetime from 20230615 this format\n",
    "df['SETTLEMENT DATE'] = pd.to_datetime(df['SETTLEMENT DATE'], format='%Y%m%d')\n",
    "df\n",
    "\n"
   ]
  },
  {
   "cell_type": "code",
   "execution_count": 6,
   "metadata": {},
   "outputs": [
    {
     "data": {
      "text/html": [
       "<div>\n",
       "<style scoped>\n",
       "    .dataframe tbody tr th:only-of-type {\n",
       "        vertical-align: middle;\n",
       "    }\n",
       "\n",
       "    .dataframe tbody tr th {\n",
       "        vertical-align: top;\n",
       "    }\n",
       "\n",
       "    .dataframe thead th {\n",
       "        text-align: right;\n",
       "    }\n",
       "</style>\n",
       "<table border=\"1\" class=\"dataframe\">\n",
       "  <thead>\n",
       "    <tr style=\"text-align: right;\">\n",
       "      <th></th>\n",
       "      <th>SETTLEMENT DATE</th>\n",
       "      <th>QUANTITY (FAILS)</th>\n",
       "      <th>PRICE</th>\n",
       "    </tr>\n",
       "  </thead>\n",
       "  <tbody>\n",
       "    <tr>\n",
       "      <th>0</th>\n",
       "      <td>2023-06-15</td>\n",
       "      <td>475</td>\n",
       "      <td>16.19</td>\n",
       "    </tr>\n",
       "    <tr>\n",
       "      <th>1</th>\n",
       "      <td>2023-06-15</td>\n",
       "      <td>2459</td>\n",
       "      <td>0.24</td>\n",
       "    </tr>\n",
       "    <tr>\n",
       "      <th>2</th>\n",
       "      <td>2023-06-15</td>\n",
       "      <td>22</td>\n",
       "      <td>4.66</td>\n",
       "    </tr>\n",
       "    <tr>\n",
       "      <th>3</th>\n",
       "      <td>2023-06-15</td>\n",
       "      <td>4063</td>\n",
       "      <td>10.70</td>\n",
       "    </tr>\n",
       "    <tr>\n",
       "      <th>4</th>\n",
       "      <td>2023-06-15</td>\n",
       "      <td>267</td>\n",
       "      <td>16.62</td>\n",
       "    </tr>\n",
       "    <tr>\n",
       "      <th>...</th>\n",
       "      <td>...</td>\n",
       "      <td>...</td>\n",
       "      <td>...</td>\n",
       "    </tr>\n",
       "    <tr>\n",
       "      <th>5497731</th>\n",
       "      <td>2021-12-31</td>\n",
       "      <td>822215</td>\n",
       "      <td>0.33</td>\n",
       "    </tr>\n",
       "    <tr>\n",
       "      <th>5497732</th>\n",
       "      <td>2021-12-31</td>\n",
       "      <td>100</td>\n",
       "      <td>6.45</td>\n",
       "    </tr>\n",
       "    <tr>\n",
       "      <th>5497733</th>\n",
       "      <td>2021-12-31</td>\n",
       "      <td>400</td>\n",
       "      <td>36.24</td>\n",
       "    </tr>\n",
       "    <tr>\n",
       "      <th>5497734</th>\n",
       "      <td>2021-12-31</td>\n",
       "      <td>30575</td>\n",
       "      <td>6.79</td>\n",
       "    </tr>\n",
       "    <tr>\n",
       "      <th>5497735</th>\n",
       "      <td>2021-12-31</td>\n",
       "      <td>1219803</td>\n",
       "      <td>6.56</td>\n",
       "    </tr>\n",
       "  </tbody>\n",
       "</table>\n",
       "<p>5497736 rows × 3 columns</p>\n",
       "</div>"
      ],
      "text/plain": [
       "        SETTLEMENT DATE  QUANTITY (FAILS)  PRICE\n",
       "0            2023-06-15               475  16.19\n",
       "1            2023-06-15              2459   0.24\n",
       "2            2023-06-15                22   4.66\n",
       "3            2023-06-15              4063  10.70\n",
       "4            2023-06-15               267  16.62\n",
       "...                 ...               ...    ...\n",
       "5497731      2021-12-31            822215   0.33\n",
       "5497732      2021-12-31               100   6.45\n",
       "5497733      2021-12-31               400  36.24\n",
       "5497734      2021-12-31             30575   6.79\n",
       "5497735      2021-12-31           1219803   6.56\n",
       "\n",
       "[5497736 rows x 3 columns]"
      ]
     },
     "execution_count": 6,
     "metadata": {},
     "output_type": "execute_result"
    }
   ],
   "source": [
    "# convert QUANTITY (FAILS) and PRICE to numeric\n",
    "df['QUANTITY (FAILS)'] = pd.to_numeric(df['QUANTITY (FAILS)'], errors='coerce')\n",
    "df['PRICE'] = pd.to_numeric(df['PRICE'], errors='coerce') # co\n",
    "df\n"
   ]
  },
  {
   "cell_type": "code",
   "execution_count": 7,
   "metadata": {},
   "outputs": [
    {
     "data": {
      "text/plain": [
       "SETTLEMENT DATE     datetime64[ns]\n",
       "QUANTITY (FAILS)             int64\n",
       "PRICE                      float64\n",
       "dtype: object"
      ]
     },
     "execution_count": 7,
     "metadata": {},
     "output_type": "execute_result"
    }
   ],
   "source": [
    "df.dtypes"
   ]
  },
  {
   "cell_type": "code",
   "execution_count": 8,
   "metadata": {},
   "outputs": [
    {
     "data": {
      "text/html": [
       "<div>\n",
       "<style scoped>\n",
       "    .dataframe tbody tr th:only-of-type {\n",
       "        vertical-align: middle;\n",
       "    }\n",
       "\n",
       "    .dataframe tbody tr th {\n",
       "        vertical-align: top;\n",
       "    }\n",
       "\n",
       "    .dataframe thead th {\n",
       "        text-align: right;\n",
       "    }\n",
       "</style>\n",
       "<table border=\"1\" class=\"dataframe\">\n",
       "  <thead>\n",
       "    <tr style=\"text-align: right;\">\n",
       "      <th></th>\n",
       "      <th>SETTLEMENT DATE</th>\n",
       "      <th>QUANTITY (FAILS)</th>\n",
       "      <th>PRICE</th>\n",
       "      <th>FTD Change</th>\n",
       "    </tr>\n",
       "  </thead>\n",
       "  <tbody>\n",
       "    <tr>\n",
       "      <th>4126130</th>\n",
       "      <td>2020-06-01</td>\n",
       "      <td>1126</td>\n",
       "      <td>48.04</td>\n",
       "      <td>0.0</td>\n",
       "    </tr>\n",
       "    <tr>\n",
       "      <th>4127047</th>\n",
       "      <td>2020-06-01</td>\n",
       "      <td>1388</td>\n",
       "      <td>9.27</td>\n",
       "      <td>262.0</td>\n",
       "    </tr>\n",
       "    <tr>\n",
       "      <th>4127046</th>\n",
       "      <td>2020-06-01</td>\n",
       "      <td>20</td>\n",
       "      <td>50.84</td>\n",
       "      <td>-1368.0</td>\n",
       "    </tr>\n",
       "    <tr>\n",
       "      <th>4127045</th>\n",
       "      <td>2020-06-01</td>\n",
       "      <td>44107</td>\n",
       "      <td>0.08</td>\n",
       "      <td>44087.0</td>\n",
       "    </tr>\n",
       "    <tr>\n",
       "      <th>4127044</th>\n",
       "      <td>2020-06-01</td>\n",
       "      <td>178</td>\n",
       "      <td>16.73</td>\n",
       "      <td>-43929.0</td>\n",
       "    </tr>\n",
       "    <tr>\n",
       "      <th>...</th>\n",
       "      <td>...</td>\n",
       "      <td>...</td>\n",
       "      <td>...</td>\n",
       "      <td>...</td>\n",
       "    </tr>\n",
       "    <tr>\n",
       "      <th>743920</th>\n",
       "      <td>2024-05-14</td>\n",
       "      <td>2161</td>\n",
       "      <td>1.69</td>\n",
       "      <td>2153.0</td>\n",
       "    </tr>\n",
       "    <tr>\n",
       "      <th>743919</th>\n",
       "      <td>2024-05-14</td>\n",
       "      <td>263</td>\n",
       "      <td>147.98</td>\n",
       "      <td>-1898.0</td>\n",
       "    </tr>\n",
       "    <tr>\n",
       "      <th>743918</th>\n",
       "      <td>2024-05-14</td>\n",
       "      <td>122</td>\n",
       "      <td>20.56</td>\n",
       "      <td>-141.0</td>\n",
       "    </tr>\n",
       "    <tr>\n",
       "      <th>743934</th>\n",
       "      <td>2024-05-14</td>\n",
       "      <td>187802</td>\n",
       "      <td>0.72</td>\n",
       "      <td>187680.0</td>\n",
       "    </tr>\n",
       "    <tr>\n",
       "      <th>746340</th>\n",
       "      <td>2024-05-14</td>\n",
       "      <td>12728</td>\n",
       "      <td>15.04</td>\n",
       "      <td>-175074.0</td>\n",
       "    </tr>\n",
       "  </tbody>\n",
       "</table>\n",
       "<p>5497736 rows × 4 columns</p>\n",
       "</div>"
      ],
      "text/plain": [
       "        SETTLEMENT DATE  QUANTITY (FAILS)   PRICE  FTD Change\n",
       "4126130      2020-06-01              1126   48.04         0.0\n",
       "4127047      2020-06-01              1388    9.27       262.0\n",
       "4127046      2020-06-01                20   50.84     -1368.0\n",
       "4127045      2020-06-01             44107    0.08     44087.0\n",
       "4127044      2020-06-01               178   16.73    -43929.0\n",
       "...                 ...               ...     ...         ...\n",
       "743920       2024-05-14              2161    1.69      2153.0\n",
       "743919       2024-05-14               263  147.98     -1898.0\n",
       "743918       2024-05-14               122   20.56      -141.0\n",
       "743934       2024-05-14            187802    0.72    187680.0\n",
       "746340       2024-05-14             12728   15.04   -175074.0\n",
       "\n",
       "[5497736 rows x 4 columns]"
      ]
     },
     "execution_count": 8,
     "metadata": {},
     "output_type": "execute_result"
    }
   ],
   "source": [
    "def calculate_ftd_changes(df):\n",
    "    # Convert 'SETTLEMENT DATE' to datetime\n",
    "    df['SETTLEMENT DATE'] = pd.to_datetime(df['SETTLEMENT DATE'], format='%Y%m%d')\n",
    "    \n",
    "    # Sort the DataFrame by 'SETTLEMENT DATE'\n",
    "    df.sort_values(by='SETTLEMENT DATE', inplace=True)\n",
    "\n",
    "    # Calculate the daily change in 'QUANTITY (FAILS)'\n",
    "    df['FTD Change'] = df.groupby(['SETTLEMENT DATE'])['QUANTITY (FAILS)'].transform(lambda x: x.diff().fillna(0))\n",
    "\n",
    "    return df\n",
    "\n",
    "\n",
    "# Calculate FTD changes\n",
    "df_with_changes = calculate_ftd_changes(df)\n",
    "df_with_changes\n"
   ]
  },
  {
   "cell_type": "code",
   "execution_count": 9,
   "metadata": {},
   "outputs": [
    {
     "data": {
      "text/plain": [
       "152998674234.0"
      ]
     },
     "execution_count": 9,
     "metadata": {},
     "output_type": "execute_result"
    }
   ],
   "source": []
  },
  {
   "cell_type": "code",
   "execution_count": null,
   "metadata": {},
   "outputs": [],
   "source": []
  },
  {
   "cell_type": "code",
   "execution_count": 10,
   "metadata": {},
   "outputs": [
    {
     "data": {
      "text/plain": [
       "-152957593965.0"
      ]
     },
     "execution_count": 10,
     "metadata": {},
     "output_type": "execute_result"
    }
   ],
   "source": []
  },
  {
   "cell_type": "code",
   "execution_count": 11,
   "metadata": {},
   "outputs": [
    {
     "data": {
      "text/plain": [
       "41080269.0"
      ]
     },
     "execution_count": 11,
     "metadata": {},
     "output_type": "execute_result"
    }
   ],
   "source": [
    "# calculate the net FTD change\n",
    "net_ftd_change = positive_ftd_sum + negative_ftd_sum\n",
    "net_ftd_change"
   ]
  },
  {
   "cell_type": "code",
   "execution_count": 15,
   "metadata": {},
   "outputs": [
    {
     "data": {
      "text/plain": [
       "30399399.06"
      ]
     },
     "execution_count": 15,
     "metadata": {},
     "output_type": "execute_result"
    }
   ],
   "source": [
    "interest_paid = net_ftd_change* 20 * 0.037\n",
    "interest_paid"
   ]
  }
 ],
 "metadata": {
  "kernelspec": {
   "display_name": "finance",
   "language": "python",
   "name": "python3"
  },
  "language_info": {
   "codemirror_mode": {
    "name": "ipython",
    "version": 3
   },
   "file_extension": ".py",
   "mimetype": "text/x-python",
   "name": "python",
   "nbconvert_exporter": "python",
   "pygments_lexer": "ipython3",
   "version": "3.12.1"
  }
 },
 "nbformat": 4,
 "nbformat_minor": 2
}
